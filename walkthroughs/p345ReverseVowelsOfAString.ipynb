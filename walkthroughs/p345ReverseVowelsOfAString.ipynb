{
 "cells": [
  {
   "cell_type": "markdown",
   "metadata": {},
   "source": [
    "# P345 Solution - Reverse Vowels of a String"
   ]
  },
  {
   "cell_type": "markdown",
   "metadata": {},
   "source": [
    "## Problem:"
   ]
  },
  {
   "cell_type": "markdown",
   "metadata": {},
   "source": [
    "Given a string we are tasked of returning the same string but only after we reverse the order of all vowels in it. So for a string like 'Up side down', we should return 'op sedi dUwn'."
   ]
  },
  {
   "cell_type": "markdown",
   "metadata": {},
   "source": [
    "## Solution"
   ]
  },
  {
   "cell_type": "markdown",
   "metadata": {},
   "source": [
    "This is not a hard problem algorithmically, and since our goal here is to learn more about python, we'll just have fun with it and try some of the python built-ins and not worry much about performance and such.  \n",
    "\n",
    "First idea is to get a list of all the vowels in our input string, for that we can use list comprehension."
   ]
  },
  {
   "cell_type": "code",
   "execution_count": 1,
   "metadata": {
    "collapsed": false
   },
   "outputs": [
    {
     "name": "stdout",
     "output_type": "stream",
     "text": [
      "['U', 'i', 'e', 'o']\n"
     ]
    }
   ],
   "source": [
    "str = 'Up side down'\n",
    "vowels = [a for a in str if a in ['a','e','o','u','i','A','E','O','U','I']]\n",
    "print(vowels)"
   ]
  },
  {
   "cell_type": "markdown",
   "metadata": {},
   "source": [
    "Sure we can easily reverse that in python, right?"
   ]
  },
  {
   "cell_type": "code",
   "execution_count": 2,
   "metadata": {
    "collapsed": false
   },
   "outputs": [
    {
     "name": "stdout",
     "output_type": "stream",
     "text": [
      "['o', 'e', 'i', 'U']\n"
     ]
    }
   ],
   "source": [
    "print(vowels[::-1])"
   ]
  },
  {
   "cell_type": "markdown",
   "metadata": {},
   "source": [
    "But wait, why don't we save the indeces for these vowels so that we know where to put them back. enumerate is how we get each member of a list with its index as a tuple."
   ]
  },
  {
   "cell_type": "code",
   "execution_count": 3,
   "metadata": {
    "collapsed": false
   },
   "outputs": [
    {
     "name": "stdout",
     "output_type": "stream",
     "text": [
      "[(0, 'U'), (1, 'p'), (2, ' '), (3, 's'), (4, 'i'), (5, 'd'), (6, 'e'), (7, ' '), (8, 'd'), (9, 'o'), (10, 'w'), (11, 'n')]\n"
     ]
    }
   ],
   "source": [
    "print(list(enumerate(str)))"
   ]
  },
  {
   "cell_type": "markdown",
   "metadata": {},
   "source": [
    "Let's go back to our list comprehension and update it to extract the indeces too."
   ]
  },
  {
   "cell_type": "code",
   "execution_count": 4,
   "metadata": {
    "collapsed": false
   },
   "outputs": [
    {
     "name": "stdout",
     "output_type": "stream",
     "text": [
      "[(0, 'U'), (4, 'i'), (6, 'e'), (9, 'o')]\n"
     ]
    }
   ],
   "source": [
    "vowels = [(a,b) for a,b in enumerate(str) if b in ['a','e','o','u','i','A','E','O','U','I']]\n",
    "print(vowels)"
   ]
  },
  {
   "cell_type": "markdown",
   "metadata": {},
   "source": [
    "We can now unzip these tuples into two lists, one for the indeces and one for the vowels."
   ]
  },
  {
   "cell_type": "code",
   "execution_count": 5,
   "metadata": {
    "collapsed": false
   },
   "outputs": [
    {
     "name": "stdout",
     "output_type": "stream",
     "text": [
      "[(0, 4, 6, 9), ('U', 'i', 'e', 'o')]\n"
     ]
    }
   ],
   "source": [
    "uvowels = list(zip(*vowels))\n",
    "print(uvowels)"
   ]
  },
  {
   "cell_type": "markdown",
   "metadata": {},
   "source": [
    "Next we'll reverse the vowels and zip the two lists again. While we are at it, let's make the result into a dictionary."
   ]
  },
  {
   "cell_type": "code",
   "execution_count": 6,
   "metadata": {
    "collapsed": false
   },
   "outputs": [
    {
     "name": "stdout",
     "output_type": "stream",
     "text": [
      "{0: 'o', 9: 'U', 4: 'e', 6: 'i'}\n"
     ]
    }
   ],
   "source": [
    "rvowels = dict(zip(uvowels[0], uvowels[1][::-1])) \n",
    "print(rvowels)"
   ]
  },
  {
   "cell_type": "markdown",
   "metadata": {},
   "source": [
    "Nice! We now know where to put each of our vowels in the original string. Let's write a lambda now that given an (index, letter) tuple it tells us whether to keep the letter as is or replace it with an entry from our dictionary."
   ]
  },
  {
   "cell_type": "code",
   "execution_count": 8,
   "metadata": {
    "collapsed": false
   },
   "outputs": [
    {
     "name": "stdout",
     "output_type": "stream",
     "text": [
      "o\n",
      "p\n"
     ]
    }
   ],
   "source": [
    "newletter = lambda x : x[1] if x[0] not in rvowels else rvowels[x[0]]\n",
    "print(newletter((0,'U')))\n",
    "print(newletter((1,'p')))\n"
   ]
  },
  {
   "cell_type": "markdown",
   "metadata": {},
   "source": [
    "Next we'll use list comprehension to execute the lambda on all (index,letter) tuples in enumerate(str). We can use ''.join() to get a string out instead of a list."
   ]
  },
  {
   "cell_type": "code",
   "execution_count": 9,
   "metadata": {
    "collapsed": false
   },
   "outputs": [
    {
     "name": "stdout",
     "output_type": "stream",
     "text": [
      "op sedi dUwn\n"
     ]
    }
   ],
   "source": [
    "print (''.join(list(map(newletter, enumerate(str))))) "
   ]
  },
  {
   "cell_type": "markdown",
   "metadata": {},
   "source": [
    "That's it! Of course, in python we can do many of these steps in one line. So I will leave you with a 3-liner cleaned up version of what we did. You know what, I'll throw in a couple of test cases too. "
   ]
  },
  {
   "cell_type": "code",
   "execution_count": 10,
   "metadata": {
    "collapsed": false
   },
   "outputs": [
    {
     "name": "stdout",
     "output_type": "stream",
     "text": [
      "op sedi dUwn\n",
      "\n",
      "o_O\n",
      "Tell nixt temi!\n"
     ]
    }
   ],
   "source": [
    "def reverseVowels(str):  \n",
    "\tvowels2 = list(zip(*[(a,b) for a,b in enumerate(str) if b in ['a','e','o','u','i','A','E','O','U','I']]))  \n",
    "\trvowels = dict(zip(vowels2[0], vowels2[1][::-1])) if len(vowels2) else {}  \n",
    "\treturn (''.join(list(map(lambda x : x[1] if x[0] not in rvowels else rvowels[x[0]], enumerate(str)))))  \n",
    "\n",
    "\n",
    "print(reverseVowels('Up side down'))\n",
    "print(reverseVowels(''))\n",
    "print(reverseVowels('O_o'))\n",
    "print(reverseVowels('Till next time!'))"
   ]
  }
 ],
 "metadata": {
  "kernelspec": {
   "display_name": "Python 3",
   "language": "python",
   "name": "python3"
  },
  "language_info": {
   "codemirror_mode": {
    "name": "ipython",
    "version": 3
   },
   "file_extension": ".py",
   "mimetype": "text/x-python",
   "name": "python",
   "nbconvert_exporter": "python",
   "pygments_lexer": "ipython3",
   "version": "3.5.1"
  }
 },
 "nbformat": 4,
 "nbformat_minor": 0
}
